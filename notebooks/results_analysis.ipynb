{
  "cells": [
    {
      "cell_type": "code",
      "execution_count": 1,
      "metadata": {},
      "outputs": [],
      "source": [
        "import os\n",
        "import json\n",
        "import pandas as pd\n"
      ]
    },
    {
      "cell_type": "code",
      "execution_count": 4,
      "metadata": {},
      "outputs": [
        {
          "data": {
            "text/html": [
              "<div>\n",
              "<style scoped>\n",
              "    .dataframe tbody tr th:only-of-type {\n",
              "        vertical-align: middle;\n",
              "    }\n",
              "\n",
              "    .dataframe tbody tr th {\n",
              "        vertical-align: top;\n",
              "    }\n",
              "\n",
              "    .dataframe thead th {\n",
              "        text-align: right;\n",
              "    }\n",
              "</style>\n",
              "<table border=\"1\" class=\"dataframe\">\n",
              "  <thead>\n",
              "    <tr style=\"text-align: right;\">\n",
              "      <th></th>\n",
              "      <th>graph_name</th>\n",
              "      <th>val_f1</th>\n",
              "      <th>val_auc</th>\n",
              "    </tr>\n",
              "  </thead>\n",
              "  <tbody>\n",
              "    <tr>\n",
              "      <th>0</th>\n",
              "      <td>data_thres_0.6.pt</td>\n",
              "      <td>0.768473</td>\n",
              "      <td>0.627498</td>\n",
              "    </tr>\n",
              "    <tr>\n",
              "      <th>1</th>\n",
              "      <td>data_thres_0.7.pt</td>\n",
              "      <td>0.768473</td>\n",
              "      <td>0.610031</td>\n",
              "    </tr>\n",
              "    <tr>\n",
              "      <th>2</th>\n",
              "      <td>data_thres_0.8.pt</td>\n",
              "      <td>0.768473</td>\n",
              "      <td>0.606289</td>\n",
              "    </tr>\n",
              "    <tr>\n",
              "      <th>3</th>\n",
              "      <td>data_thres_0.9.pt</td>\n",
              "      <td>0.768473</td>\n",
              "      <td>0.533262</td>\n",
              "    </tr>\n",
              "  </tbody>\n",
              "</table>\n",
              "</div>"
            ],
            "text/plain": [
              "          graph_name    val_f1   val_auc\n",
              "0  data_thres_0.6.pt  0.768473  0.627498\n",
              "1  data_thres_0.7.pt  0.768473  0.610031\n",
              "2  data_thres_0.8.pt  0.768473  0.606289\n",
              "3  data_thres_0.9.pt  0.768473  0.533262"
            ]
          },
          "execution_count": 4,
          "metadata": {},
          "output_type": "execute_result"
        }
      ],
      "source": [
        "\n",
        "# Define the directory path\n",
        "directory_path = r'C:\\Users\\Luis\\Desktop\\Master\\TFM\\master-thesis-gnn\\results\\rel-amazon\\tasks\\user-churn\\common_purchased_categories_one_hot_vector'\n",
        "\n",
        "# Get all json files in the directory\n",
        "json_files = [f for f in os.listdir(directory_path) if f.endswith('.json')]\n",
        "\n",
        "# List to store the data from each json file\n",
        "data_list = []\n",
        "\n",
        "# Iterate over each json file\n",
        "for file_name in json_files:\n",
        "    file_path = os.path.join(directory_path, file_name)\n",
        "    with open(file_path, 'r') as f:\n",
        "        data = json.load(f)\n",
        "        data_list.append(data)\n",
        "\n",
        "# Create a pandas DataFrame\n",
        "df = pd.DataFrame(data_list)\n",
        "\n",
        "# Display the DataFrame\n",
        "df\n",
        "\n"
      ]
    }
  ],
  "metadata": {
    "kernelspec": {
      "display_name": "Python 3",
      "language": "python",
      "name": "python3"
    },
    "language_info": {
      "codemirror_mode": {
        "name": "ipython",
        "version": 3
      },
      "file_extension": ".py",
      "mimetype": "text/x-python",
      "name": "python",
      "nbconvert_exporter": "python",
      "pygments_lexer": "ipython3",
      "version": "3.13.3"
    }
  },
  "nbformat": 4,
  "nbformat_minor": 2
}
