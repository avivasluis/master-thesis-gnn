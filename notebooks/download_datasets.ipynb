{
 "cells": [
  {
   "cell_type": "code",
   "execution_count": 1,
   "id": "8a3f7316",
   "metadata": {},
   "outputs": [
    {
     "data": {
      "text/plain": [
       "['rel-amazon',\n",
       " 'rel-avito',\n",
       " 'rel-event',\n",
       " 'rel-f1',\n",
       " 'rel-hm',\n",
       " 'rel-stack',\n",
       " 'rel-trial']"
      ]
     },
     "execution_count": 1,
     "metadata": {},
     "output_type": "execute_result"
    }
   ],
   "source": [
    "import relbench\n",
    "\n",
    "from relbench.datasets import get_dataset_names\n",
    "from relbench.tasks import get_task_names, get_task\n",
    "from relbench.datasets import get_dataset\n",
    "\n",
    "\n",
    "get_dataset_names()"
   ]
  },
  {
   "cell_type": "code",
   "execution_count": 2,
   "id": "957116b9",
   "metadata": {},
   "outputs": [],
   "source": [
    "dataset_name = \"rel-amazon\""
   ]
  },
  {
   "cell_type": "code",
   "execution_count": null,
   "id": "0faa79f3",
   "metadata": {},
   "outputs": [
    {
     "name": "stderr",
     "output_type": "stream",
     "text": [
      "Downloading file 'rel-amazon/db.zip' from 'https://relbench.stanford.edu/download/rel-amazon/db.zip' to 'C:\\Users\\Luis\\AppData\\Local\\relbench\\relbench\\Cache'.\n",
      "100%|#####################################| 6.40G/6.40G [00:00<00:00, 8.33TB/s]\n",
      "Unzipping contents of 'C:\\Users\\Luis\\AppData\\Local\\relbench\\relbench\\Cache\\rel-amazon\\db.zip' to 'C:\\Users\\Luis\\AppData\\Local\\relbench\\relbench\\Cache\\rel-amazon\\.'\n"
     ]
    },
    {
     "name": "stdout",
     "output_type": "stream",
     "text": [
      "Loading Database object from C:\\Users\\Luis\\AppData\\Local\\relbench\\relbench\\Cache/rel-amazon/db...\n"
     ]
    }
   ],
   "source": [
    "dataset = get_dataset(name=dataset_name, download=True)\n",
    "\n",
    "db = dataset.get_db(upto_test_timestamp=False)"
   ]
  },
  {
   "cell_type": "markdown",
   "id": "08795edc",
   "metadata": {},
   "source": [
    "Datasets are downloades in here: `C:\\Users\\Luis\\AppData\\Local\\relbench\\relbench\\Cache`"
   ]
  },
  {
   "cell_type": "code",
   "execution_count": 3,
   "id": "54230d1e",
   "metadata": {},
   "outputs": [
    {
     "data": {
      "text/plain": [
       "['user-churn',\n",
       " 'user-ltv',\n",
       " 'item-churn',\n",
       " 'item-ltv',\n",
       " 'user-item-purchase',\n",
       " 'user-item-rate',\n",
       " 'user-item-review']"
      ]
     },
     "execution_count": 3,
     "metadata": {},
     "output_type": "execute_result"
    }
   ],
   "source": [
    "get_task_names(dataset_name)"
   ]
  },
  {
   "cell_type": "code",
   "execution_count": 11,
   "id": "9e0a7f0c",
   "metadata": {},
   "outputs": [],
   "source": [
    "task_name = 'item-ltv'"
   ]
  },
  {
   "cell_type": "code",
   "execution_count": 12,
   "id": "7278ea7c",
   "metadata": {},
   "outputs": [
    {
     "name": "stderr",
     "output_type": "stream",
     "text": [
      "Downloading file 'rel-amazon/tasks/item-ltv.zip' from 'https://relbench.stanford.edu/download/rel-amazon/tasks/item-ltv.zip' to 'C:\\Users\\Luis\\AppData\\Local\\relbench\\relbench\\Cache'.\n",
      "100%|#####################################| 18.3M/18.3M [00:00<00:00, 30.3GB/s]\n",
      "Unzipping contents of 'C:\\Users\\Luis\\AppData\\Local\\relbench\\relbench\\Cache\\rel-amazon\\tasks\\item-ltv.zip' to 'C:\\Users\\Luis\\AppData\\Local\\relbench\\relbench\\Cache\\rel-amazon\\tasks\\.'\n"
     ]
    }
   ],
   "source": [
    "# task = get_task(dataset_name, task_name, download=True)\n",
    "task = get_task(dataset_name, task_name, download=True)"
   ]
  }
 ],
 "metadata": {
  "kernelspec": {
   "display_name": "Python 3",
   "language": "python",
   "name": "python3"
  },
  "language_info": {
   "codemirror_mode": {
    "name": "ipython",
    "version": 3
   },
   "file_extension": ".py",
   "mimetype": "text/x-python",
   "name": "python",
   "nbconvert_exporter": "python",
   "pygments_lexer": "ipython3",
   "version": "3.13.3"
  }
 },
 "nbformat": 4,
 "nbformat_minor": 5
}
